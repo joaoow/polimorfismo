{
  "nbformat": 4,
  "nbformat_minor": 0,
  "metadata": {
    "colab": {
      "provenance": []
    },
    "kernelspec": {
      "name": "python3",
      "display_name": "Python 3"
    },
    "language_info": {
      "name": "python"
    }
  },
  "cells": [
    {
      "cell_type": "code",
      "execution_count": 3,
      "metadata": {
        "colab": {
          "base_uri": "https://localhost:8080/"
        },
        "id": "68VUuOpaWX-a",
        "outputId": "ebb9a692-24f4-4a97-bd6f-3296329f96b8"
      },
      "outputs": [
        {
          "output_type": "stream",
          "name": "stdout",
          "text": [
            "Buenos Aires é uma capital da argentina.\n",
            "O espanhol é a lingua oficial da argentina.\n",
            "Brasília é a capital do brasil.\n",
            "O português é a lingua ofical do brasil.\n"
          ]
        }
      ],
      "source": [
        "class Argentina:\n",
        "  def capital(self):\n",
        "    print('Buenos Aires é uma capital da argentina.')\n",
        "  def lingua_ofical(self):\n",
        "    print('O espanhol é a lingua oficial da argentina.')\n",
        "\n",
        "class Brasil:\n",
        "  def capital(self):\n",
        "    print('Brasília é a capital do brasil.')\n",
        "  def lingua_ofical(self):\n",
        "    print('O português é a lingua ofical do brasil.')\n",
        "\n",
        "#criando objeto argentina e brasil, e setando as classes\n",
        "obj_arg = Argentina()\n",
        "obj_br = Brasil()\n",
        "for pais in (obj_arg, obj_br):\n",
        " pais.capital()\n",
        " pais.lingua_ofical()\n"
      ]
    }
  ]
}