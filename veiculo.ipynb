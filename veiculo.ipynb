{
  "nbformat": 4,
  "nbformat_minor": 0,
  "metadata": {
    "colab": {
      "provenance": []
    },
    "kernelspec": {
      "name": "python3",
      "display_name": "Python 3"
    },
    "language_info": {
      "name": "python"
    }
  },
  "cells": [
    {
      "cell_type": "code",
      "source": [
        "class Veiculo:\n",
        "  def rodar(self):\n",
        "      print('Reduz o consumo de combustivel.')\n",
        "\n",
        "class VeiculoEletrico(Veiculo): #Herda da classe \"veiculo\"\n",
        "  def rodar(self):\n",
        "    super().rodar()\n",
        "    print('Esse veiculo utiliza eletricidade.')\n",
        "\n",
        "veiculo_eletrico = VeiculoEletrico() #cria o objeto e istancia a classe\n",
        "veiculo_eletrico.rodar() #chama o rodar na classe"
      ],
      "metadata": {
        "colab": {
          "base_uri": "https://localhost:8080/"
        },
        "id": "rdzpFHxDudmg",
        "outputId": "7773c7b9-9925-44f0-979a-022720b3dafa"
      },
      "execution_count": 7,
      "outputs": [
        {
          "output_type": "stream",
          "name": "stdout",
          "text": [
            "Reduz o consumo de combustivel.\n",
            "Esse veiculo utiliza eletricidade.\n"
          ]
        }
      ]
    }
  ]
}